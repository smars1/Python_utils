{
 "cells": [
  {
   "cell_type": "markdown",
   "metadata": {},
   "source": [
    "linea 401 "
   ]
  }
 ],
 "metadata": {
  "language_info": {
   "name": "python"
  }
 },
 "nbformat": 4,
 "nbformat_minor": 2
}
