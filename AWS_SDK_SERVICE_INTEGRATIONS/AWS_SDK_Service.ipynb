{
 "cells": [
  {
   "cell_type": "markdown",
   "metadata": {},
   "source": [
    "<summary>AWS Step Functions, Documetation Links</summary>\n",
    "\n",
    "### Developer Guide\n",
    "\n",
    "| AWS Step Functions Topic |\n",
    "| --- |\n",
    "| [`Working with other services`](https://docs.aws.amazon.com/step-functions/latest/dg/connect-to-services.html) |\n",
    "| [`Call other AWS services`](https://docs.aws.amazon.com/step-functions/latest/dg/connect-to-services.html) | \n",
    "|[`AWS SDK service integrations`](https://docs.aws.amazon.com/step-functions/latest/dg/connect-to-services.html)|\n",
    "\n",
    "</br>\n",
    "In this workshop, you will learn how to use the primary features of AWS Step Functions through a series of interactive modules.\n",
    "</br>\n",
    "</br>\n",
    "\n",
    "| AWS Step Functions Workshop |\n",
    "| --- |\n",
    "|[`The AWS Step Functions Workshop`](https://catalog.workshops.aws/stepfunctions/en-US/introduction)|\n",
    "|[States](https://docs.aws.amazon.com/step-functions/latest/dg/concepts-states.html)|\n"
   ]
  },
  {
   "cell_type": "markdown",
   "metadata": {},
   "source": [
    "# AWS SDK SERVICE INTEGRATION \n",
    "```Push to open```\n",
    "<details>\n",
    "\n",
    "To use AWS SDK integrartions, you specify the service name and API call.\n",
    "\n",
    "- Some integration require parameters and you may optionally specify a servive integration pattern. \n",
    "- Note that  the API action will be camel case, and parameters names will be Pascal case.\n",
    "\n",
    "You can you use ```Amazon States Language``` to specify an AWS API action in the resource field of a task state.\n",
    "\n",
    "To do this, use the following syntax:\n",
    "    \n",
    "</details>"
   ]
  },
  {
   "cell_type": "markdown",
   "metadata": {},
   "source": [
    "```aws\n",
    "arn:aws:states:::aws-sdk:serviceName:apiAction.[serviceIntegrationPattern]\n",
    "```\n",
    "<sumary> To more info push detalles</sumary>\n",
    "\n",
    "<details >\n",
    "\n",
    "To describe Amazon EC2 instances, use the syntax: ```arn:aws:states:::aws-sdk:ec2:describeInstances```. This will return as output the return value of the Amazon EC2 describeInstances API call.\n",
    "\n",
    "To list buckets in Amazon S3, use ```arn:aws:states:::aws-sdk:s3:listBuckets```. This will return as output the return value of the Amazon S3 listBuckets API call.\n",
    "\n",
    "To start a nested execution in Step Functions use the syntax: ```arn:aws:states:::aws-sdk:sfn:startExecution```. You will then add StateMachineArn as a parameter. This will return as output the return value of the Step Functions nested workflow.\n",
    "\n",
    "</details>"
   ]
  },
  {
   "cell_type": "markdown",
   "metadata": {},
   "source": []
  }
 ],
 "metadata": {
  "kernelspec": {
   "display_name": "Python 3",
   "language": "python",
   "name": "python3"
  },
  "language_info": {
   "codemirror_mode": {
    "name": "ipython",
    "version": 3
   },
   "file_extension": ".py",
   "mimetype": "text/x-python",
   "name": "python",
   "nbconvert_exporter": "python",
   "pygments_lexer": "ipython3",
   "version": "3.12.0"
  }
 },
 "nbformat": 4,
 "nbformat_minor": 2
}
