{
  "cells": [
    {
      "cell_type": "markdown",
      "metadata": {},
      "source": [
        "<p style=\"text-align:center\">\n",
        "    <a href=\"https://skills.network/?utm_medium=Exinfluencer&utm_source=Exinfluencer&utm_content=000026UJ&utm_term=10006555&utm_id=NA-SkillsNetwork-Channel-SkillsNetworkCoursesIBMDeveloperSkillsNetworkPY0101ENSkillsNetwork1005-2022-01-01\" target=\"_blank\">\n",
        "    <img src=\"https://cf-courses-data.s3.us.cloud-object-storage.appdomain.cloud/assets/logos/SN_web_lightmode.png\" width=\"200\" alt=\"Skills Network Logo\"  />\n",
        "    </a>\n",
        "</p>\n"
      ]
    },
    {
      "cell_type": "markdown",
      "metadata": {},
      "source": [
        "You will need the class Car for the next exercises. The class Car has four data attributes: make, model, colour and number of owners (owner_number). The method <code> car_info() </code>  prints out the data attributes and the method <code>sell()</code> increments the number of owners by 1.\n"
      ]
    },
    {
      "cell_type": "code",
      "execution_count": 2,
      "metadata": {
        "trusted": true
      },
      "outputs": [],
      "source": [
        "class Car(object):\n",
        "    def __init__(self,make,model,color):\n",
        "        self.make=make;\n",
        "        self.model=model;\n",
        "        self.color=color;\n",
        "        self.owner_number=0 \n",
        "    def car_info(self):\n",
        "        print(\"make: \",self.make)\n",
        "        print(\"model:\", self.model)\n",
        "        print(\"color:\",self.color)\n",
        "        print(\"number of owners:\",self.owner_number)\n",
        "    def sell(self):\n",
        "        self.owner_number=self.owner_number+1"
      ]
    },
    {
      "cell_type": "markdown",
      "metadata": {},
      "source": [
        "<h3> Create a Car Object </h3>\n"
      ]
    },
    {
      "cell_type": "markdown",
      "metadata": {},
      "source": [
        "Create a <code> Car </code> object \"my_car\" with the given data attributes: \n"
      ]
    },
    {
      "cell_type": "code",
      "execution_count": 3,
      "metadata": {
        "trusted": true
      },
      "outputs": [],
      "source": [
        "make=\"BMW\"\n",
        "model=\"M3\"\n",
        "color=\"red\"\n",
        "\n",
        "# create a object car\n",
        "my_car =  Car(make,model,color)\n",
        "\n",
        "# we can create different objects of the same class\n",
        "make=\"jeep\"\n",
        "model=\"rubbicon\"\n",
        "color=\"green\"\n",
        "mycar2 =  Car(make,model,color)\n",
        "\n"
      ]
    },
    {
      "cell_type": "markdown",
      "metadata": {},
      "source": [
        "<details><summary>Click here for the solution</summary>\n",
        "\n",
        "```python\n",
        "my_car = Car(make,model,color)\n",
        "    \n",
        "```\n",
        "\n",
        "</details>\n",
        " \n"
      ]
    },
    {
      "cell_type": "markdown",
      "metadata": {},
      "source": [
        "<h3> Data Attributes </h3>\n"
      ]
    },
    {
      "cell_type": "markdown",
      "metadata": {},
      "source": [
        "Use the method `car_info()` to print out the data attributes.\n"
      ]
    },
    {
      "cell_type": "code",
      "execution_count": 4,
      "metadata": {
        "trusted": true
      },
      "outputs": [
        {
          "name": "stdout",
          "output_type": "stream",
          "text": [
            "make:  BMW\n",
            "model: M3\n",
            "color: red\n",
            "number of owners: 0\n",
            "make:  jeep\n",
            "model: rubbicon\n",
            "color: green\n",
            "number of owners: 0\n"
          ]
        }
      ],
      "source": [
        "# my object is my_car, now i can call the method car_info() that create previusly or any other method that was has been create previusly\n",
        "my_car.car_info()\n",
        "\n",
        "mycar2.car_info()\n",
        "\n"
      ]
    },
    {
      "cell_type": "markdown",
      "metadata": {},
      "source": [
        "<details><summary>Click here for the solution</summary>\n",
        "\n",
        "```python\n",
        "my_car.car_info()\n",
        "    \n",
        "```\n",
        "\n",
        "</details>\n",
        " \n"
      ]
    },
    {
      "cell_type": "markdown",
      "metadata": {},
      "source": [
        "<h3> Methods  </h3>\n"
      ]
    },
    {
      "cell_type": "markdown",
      "metadata": {},
      "source": [
        "Call the method <code> sell() </code> in the loop, then call the method <code> car_info()</code> again \n"
      ]
    },
    {
      "cell_type": "code",
      "execution_count": 5,
      "metadata": {
        "trusted": true
      },
      "outputs": [
        {
          "name": "stdout",
          "output_type": "stream",
          "text": [
            "make:  BMW\n",
            "model: M3\n",
            "color: red\n",
            "number of owners: 5\n",
            "make:  jeep\n",
            "model: rubbicon\n",
            "color: green\n",
            "number of owners: 5\n"
          ]
        }
      ],
      "source": [
        "for i in range(5):\n",
        "    \n",
        "    my_car.sell()\n",
        "    mycar2.sell()\n",
        "\n",
        "# 1st object     \n",
        "my_car.car_info()\n",
        "# 2nd object\n",
        "mycar2.car_info()\n"
      ]
    },
    {
      "cell_type": "markdown",
      "metadata": {},
      "source": [
        "<details><summary>Click here for the solution</summary>\n",
        "\n",
        "```python\n",
        "for i in range(5):\n",
        "    my_car.sell()\n",
        "\n",
        "my_car.car_info()\n",
        "    \n",
        "```\n",
        "\n",
        "</details>\n",
        " \n"
      ]
    },
    {
      "cell_type": "markdown",
      "metadata": {},
      "source": [
        "# Parameters are independent between objects of the same class\n",
        "in the following example we can see how it behaves the parameter or attribute from the differents object from the same class"
      ]
    },
    {
      "cell_type": "code",
      "execution_count": 17,
      "metadata": {
        "tags": [
          "parameters"
        ],
        "trusted": true
      },
      "outputs": [
        {
          "name": "stdout",
          "output_type": "stream",
          "text": [
            "the 3rd object begin in : 0 owners\n",
            "make:  jeep\n",
            "model: rubbicon\n",
            "color: white\n",
            "number of owners: 0\n",
            "make:  BMW\n",
            "model: M3\n",
            "color: red\n",
            "number of owners: 55\n",
            "make:  jeep\n",
            "model: rubbicon\n",
            "color: green\n",
            "number of owners: 55\n",
            "the 3rd object begin in : 5 owners\n",
            "make:  jeep\n",
            "model: rubbicon\n",
            "color: white\n",
            "number of owners: 5\n"
          ]
        }
      ],
      "source": [
        "# in the 3rt object we can see that the attributes between object of the same class are independent\n",
        "\n",
        "# to create a 3rt object\n",
        "make=\"jeep\"\n",
        "model=\"rubbicon\"\n",
        "color=\"white\"\n",
        "mycar3 =  Car(make,model,color)\n",
        "\n",
        "# call the 3rt object \n",
        "print(f'the 3rd object begin in : {mycar3.owner_number} owners')\n",
        "mycar3.car_info()\n",
        "\n",
        "for i in range(5):\n",
        "    # 1st object     \n",
        "    my_car.sell()\n",
        "    # 2nd object\n",
        "    mycar2.sell()\n",
        "    # 3rt object \n",
        "    mycar3.sell()\n",
        "    \n",
        "# 1st object     \n",
        "my_car.car_info()\n",
        "# 2nd object\n",
        "mycar2.car_info()\n",
        "print(f'the 3rd object begin in : {mycar3.owner_number} owners')\n",
        "# 3rt object \n",
        "mycar3.car_info()"
      ]
    },
    {
      "cell_type": "markdown",
      "metadata": {},
      "source": [
        "<hr>\n",
        "\n",
        "<h3 align=\"center\"> © IBM Corporation 2020. All rights reserved. <h3/>\n"
      ]
    }
  ],
  "metadata": {
    "kernelspec": {
      "display_name": "Python 3",
      "language": "python",
      "name": "python3"
    },
    "language_info": {
      "codemirror_mode": {
        "name": "ipython",
        "version": 3
      },
      "file_extension": ".py",
      "mimetype": "text/x-python",
      "name": "python",
      "nbconvert_exporter": "python",
      "pygments_lexer": "ipython3",
      "version": "3.11.4"
    }
  },
  "nbformat": 4,
  "nbformat_minor": 4
}
